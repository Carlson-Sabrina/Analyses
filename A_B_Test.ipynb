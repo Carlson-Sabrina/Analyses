{
  "nbformat": 4,
  "nbformat_minor": 0,
  "metadata": {
    "colab": {
      "name": "A/B Test.ipynb",
      "provenance": [],
      "collapsed_sections": []
    },
    "kernelspec": {
      "name": "python3",
      "display_name": "Python 3"
    }
  },
  "cells": [
    {
      "cell_type": "code",
      "metadata": {
        "id": "LB5EeXm9P_Rc",
        "colab_type": "code",
        "colab": {
          "resources": {
            "http://localhost:8080/nbextensions/google.colab/files.js": {
              "data": "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",
              "ok": true,
              "headers": [
                [
                  "content-type",
                  "application/javascript"
                ]
              ],
              "status": 200,
              "status_text": ""
            }
          },
          "base_uri": "https://localhost:8080/",
          "height": 75
        },
        "outputId": "b511f5be-1d58-433e-b405-3a2e9ff8f248"
      },
      "source": [
        "%matplotlib inline\n",
        "import pandas as pd\n",
        "import numpy as np\n",
        "import seaborn as sns\n",
        "from matplotlib import pyplot as plt\n",
        "from scipy import stats\n",
        "from google.colab import files\n",
        "uploaded = files.upload()"
      ],
      "execution_count": null,
      "outputs": [
        {
          "output_type": "display_data",
          "data": {
            "text/html": [
              "\n",
              "     <input type=\"file\" id=\"files-ce3ba201-f646-47cb-a12e-caf636f70ab9\" name=\"files[]\" multiple disabled />\n",
              "     <output id=\"result-ce3ba201-f646-47cb-a12e-caf636f70ab9\">\n",
              "      Upload widget is only available when the cell has been executed in the\n",
              "      current browser session. Please rerun this cell to enable.\n",
              "      </output>\n",
              "      <script src=\"/nbextensions/google.colab/files.js\"></script> "
            ],
            "text/plain": [
              "<IPython.core.display.HTML object>"
            ]
          },
          "metadata": {
            "tags": []
          }
        },
        {
          "output_type": "stream",
          "text": [
            "Saving WA_Fn-UseC_-HR-Employee-Attrition.csv to WA_Fn-UseC_-HR-Employee-Attrition.csv\n"
          ],
          "name": "stdout"
        }
      ]
    },
    {
      "cell_type": "markdown",
      "metadata": {
        "id": "P-Qtkv7ohI2B",
        "colab_type": "text"
      },
      "source": [
        "### Introduction  ###\n"
      ]
    },
    {
      "cell_type": "markdown",
      "metadata": {
        "id": "JsH8LswihWm_",
        "colab_type": "text"
      },
      "source": [
        "IBM wants to know if there is a significant difference between female and male employees in monthly income, job satisfaction, and percent salary hike to make sure that the company is treating its employees equally.  \n",
        "\n",
        "\n",
        "###Hypotheses:\n",
        "**1** There is a statistically significance difference between female and male employees in monthly income  \n",
        "**2** There is a statistically significance difference between female and male employees in job satisfaction  \n",
        "**3** There is a statistically significance difference between female and male employees percent salary increase\n",
        "\n",
        "### Data:\n",
        "\n",
        "This data is from IBM and contains 1470 observations and 35 variables. There are no missing values. There are 882 male employees and 588 female employees included in the data. \n",
        "\n",
        "### Methods: \n",
        "I created two data frames, one with all the data for female employees and a second containing all the data for male employees. I then compared these dataframes along multiple indicators: monthly income, job satisfaction, and percent salary increase. I first determined whether the variables were normally distributed (using histograms and skewness/kurtosis estimates). I then used Krustal and Mann Whitney U tests because the distributions did not seem to be normal."
      ]
    },
    {
      "cell_type": "code",
      "metadata": {
        "id": "UKnurfHMQPeb",
        "colab_type": "code",
        "colab": {
          "base_uri": "https://localhost:8080/",
          "height": 659
        },
        "outputId": "4152cf0a-44e8-450d-e95f-3c8f385ff657"
      },
      "source": [
        "import io\n",
        "IBM = pd.read_csv(io.StringIO(uploaded['WA_Fn-UseC_-HR-Employee-Attrition.csv'].decode('utf-8')))\n",
        "\n",
        "print(IBM.shape)\n",
        "\n",
        "IBM['EmployeeNumber'].duplicated().any()\n",
        "#Returns False, can use EmployeeNumber as a unique identifier\n",
        "\n",
        "IBM.isnull().any()\n"
      ],
      "execution_count": null,
      "outputs": [
        {
          "output_type": "stream",
          "text": [
            "(1470, 35)\n"
          ],
          "name": "stdout"
        },
        {
          "output_type": "execute_result",
          "data": {
            "text/plain": [
              "Age                         False\n",
              "Attrition                   False\n",
              "BusinessTravel              False\n",
              "DailyRate                   False\n",
              "Department                  False\n",
              "DistanceFromHome            False\n",
              "Education                   False\n",
              "EducationField              False\n",
              "EmployeeCount               False\n",
              "EmployeeNumber              False\n",
              "EnvironmentSatisfaction     False\n",
              "Gender                      False\n",
              "HourlyRate                  False\n",
              "JobInvolvement              False\n",
              "JobLevel                    False\n",
              "JobRole                     False\n",
              "JobSatisfaction             False\n",
              "MaritalStatus               False\n",
              "MonthlyIncome               False\n",
              "MonthlyRate                 False\n",
              "NumCompaniesWorked          False\n",
              "Over18                      False\n",
              "OverTime                    False\n",
              "PercentSalaryHike           False\n",
              "PerformanceRating           False\n",
              "RelationshipSatisfaction    False\n",
              "StandardHours               False\n",
              "StockOptionLevel            False\n",
              "TotalWorkingYears           False\n",
              "TrainingTimesLastYear       False\n",
              "WorkLifeBalance             False\n",
              "YearsAtCompany              False\n",
              "YearsInCurrentRole          False\n",
              "YearsSinceLastPromotion     False\n",
              "YearsWithCurrManager        False\n",
              "dtype: bool"
            ]
          },
          "metadata": {
            "tags": []
          },
          "execution_count": 3
        }
      ]
    },
    {
      "cell_type": "markdown",
      "metadata": {
        "id": "oo5JIxLMhGTG",
        "colab_type": "text"
      },
      "source": [
        "###Hypothesis 1: \n",
        "There is a statistically significant difference between male and female employees in Monthly Income"
      ]
    },
    {
      "cell_type": "code",
      "metadata": {
        "id": "YDIcmcsW931z",
        "colab_type": "code",
        "colab": {
          "base_uri": "https://localhost:8080/",
          "height": 926
        },
        "outputId": "dee4f0b0-d036-43dc-edf7-b95c85a7cd95"
      },
      "source": [
        "#create two dataframes, one with all the male employees and another with all female employees\n",
        "Males = IBM[IBM['Gender']=='Male']\n",
        "Females = IBM[IBM['Gender']=='Female']\n",
        "\n",
        "print(Males['MonthlyIncome'].median())\n",
        "print(Females['MonthlyIncome'].median())\n",
        "\n",
        "print(Males.shape)\n",
        "print(Females.shape)\n",
        "\n",
        "print('The sample sizes are 882 and 588. These are large enough to proceed.')\n",
        "\n",
        "#Check for normal distribution\n",
        "\n",
        "plt.hist(Males['MonthlyIncome'], alpha = .5, label = 'Males')\n",
        "plt.hist(Females['MonthlyIncome'], alpha = .5, label = 'Females')\n",
        "plt.xlabel('Monthly Income')\n",
        "plt.ylabel('Number of Employees')\n",
        "plt.title('Income Distribution')\n",
        "plt.legend()\n",
        "plt.show()\n",
        "\n",
        "\n",
        "# This does not look like a normal distribution\n",
        "\n",
        "print(stats.describe(Males['MonthlyIncome']))\n",
        "print(stats.describe(Females['MonthlyIncome']))\n",
        "\n",
        "\n",
        "#Skew and Kurtosis numbers are close to normal, but the histogram is far from normal\n",
        "print(stats.shapiro(Males['MonthlyIncome']))\n",
        "print(stats.shapiro(Females['MonthlyIncome']))\n",
        "\n",
        "\n",
        "#The histogram does not look normal. And the Shapiro results indicate that \n",
        "#it is not normal\n",
        "#Conduct kruskal: \n",
        "print(stats.kruskal(\n",
        "    Males['MonthlyIncome'],\n",
        "    Females['MonthlyIncome']))\n",
        "\n",
        "#The p value is too high for kruskal to reject the null\n",
        "print(stats.mannwhitneyu(Males['MonthlyIncome'], Females['MonthlyIncome']))\n",
        "\n",
        "#check out boxplot \n",
        "\n",
        "IBM.boxplot('MonthlyIncome', by='Gender', figsize=(10, 6))\n",
        "\n"
      ],
      "execution_count": null,
      "outputs": [
        {
          "output_type": "stream",
          "text": [
            "4837.5\n",
            "5081.5\n",
            "(882, 35)\n",
            "(588, 35)\n",
            "The sample sizes are 882 and 588. These are large enough to proceed.\n"
          ],
          "name": "stdout"
        },
        {
          "output_type": "display_data",
          "data": {
            "image/png": "[encoded data removed]",
            "text/plain": [
              "<Figure size 432x288 with 1 Axes>"
            ]
          },
          "metadata": {
            "tags": []
          }
        },
        {
          "output_type": "stream",
          "text": [
            "DescribeResult(nobs=882, minmax=(1009, 19999), mean=6380.507936507936, variance=22229872.540799595, skewness=1.4402980490941728, kurtosis=1.2428730146891933)\n",
            "DescribeResult(nobs=588, minmax=(1129, 19973), mean=6686.566326530612, variance=22048739.251129925, skewness=1.265405982460292, kurtosis=0.6588763943837175)\n",
            "(0.8169718384742737, 1.709933327621381e-30)\n",
            "(0.8416616916656494, 9.378564564919968e-24)\n",
            "KruskalResult(statistic=2.9031804931215315, pvalue=0.08840496463107667)\n",
            "MannwhitneyuResult(statistic=245722.5, pvalue=0.044208341633010594)\n"
          ],
          "name": "stdout"
        },
        {
          "output_type": "execute_result",
          "data": {
            "text/plain": [
              "<matplotlib.axes._subplots.AxesSubplot at 0x7f62f7765128>"
            ]
          },
          "metadata": {
            "tags": []
          },
          "execution_count": 4
        },
        {
          "output_type": "display_data",
          "data": {
            "image/png": "[encoded data removed]",
            "text/plain": [
              "<Figure size 720x432 with 1 Axes>"
            ]
          },
          "metadata": {
            "tags": []
          }
        }
      ]
    },
    {
      "cell_type": "markdown",
      "metadata": {
        "id": "-wtIE3eaiTxS",
        "colab_type": "text"
      },
      "source": [
        "The histogram shows that this is not normally distributed. The boxplot shows that there is a very small difference between male and female employees, but the Kruskal test tells us that we cannot reject the null and the Mann Whitney U p value is so close to .05. I just do not think this difference is significant.  It does not appear that there is a statistically significance difference between men and women's monthly incomes. In the future, I could drop the people who make A LOT of money and see if that makes a difference. It is possible that these outliers are altering the results."
      ]
    },
    {
      "cell_type": "markdown",
      "metadata": {
        "id": "8d98l7DWiZUb",
        "colab_type": "text"
      },
      "source": [
        "###Hypothesis 2: \n",
        "There is a statistically significant difference between men and women in job satisfaction\n"
      ]
    },
    {
      "cell_type": "code",
      "metadata": {
        "id": "7otv8IfDckLT",
        "colab_type": "code",
        "colab": {
          "base_uri": "https://localhost:8080/",
          "height": 874
        },
        "outputId": "a5cff24e-b964-469c-c8f8-7937ac6004a8"
      },
      "source": [
        "\n",
        "\n",
        "#Check for normal distribution\n",
        "\n",
        "plt.hist(Males['JobSatisfaction'], alpha = .5, label = 'Males')\n",
        "plt.hist(Females['JobSatisfaction'], alpha = .5, label = 'Females')\n",
        "plt.xlabel('Job Satisfaction Level')\n",
        "plt.ylabel('Number of Employees')\n",
        "plt.title('Job Satisfaction Distribution')\n",
        "plt.legend()\n",
        "plt.show()\n",
        "\n",
        "print(Males['JobSatisfaction'].median())\n",
        "print(Females['JobSatisfaction'].median())\n",
        "\n",
        "\n",
        "# Job satisfaction is ordinal so the histogram is not too helpful\n",
        "#Calculate the skew, kurtosis, and W to determine if we can proceed\n",
        "\n",
        "print(stats.describe(Males['JobSatisfaction']))\n",
        "print(stats.describe(Females['JobSatisfaction']))\n",
        "#Skew and Kurtosis numbers are close enough to normal\n",
        "\n",
        "\n",
        "print(stats.shapiro(Males['JobSatisfaction']))\n",
        "print(stats.shapiro(Females['JobSatisfaction']))\n",
        "#The histogram is not very helpful and the shapiro results indicate non-normality, but\n",
        "#The skew and kurtosis numbers are good. Let's do Kruskal instead of a t test to be safe:\n",
        "\n",
        "\n",
        "\n",
        "print(stats.kruskal(\n",
        "    Males['JobSatisfaction'],\n",
        "    Females['JobSatisfaction']))\n",
        "\n",
        "#And a Mann Whitney U test:\n",
        "print(stats.mannwhitneyu(Males['JobSatisfaction'], Females['JobSatisfaction']))\n",
        "\n",
        "#Let's look at a boxplot\n",
        "\n",
        "IBM.boxplot('JobSatisfaction', by='Gender', figsize=(10, 6))\n",
        "\n"
      ],
      "execution_count": null,
      "outputs": [
        {
          "output_type": "display_data",
          "data": {
            "image/png": "[encoded data removed]",
            "text/plain": [
              "<Figure size 432x288 with 1 Axes>"
            ]
          },
          "metadata": {
            "tags": []
          }
        },
        {
          "output_type": "stream",
          "text": [
            "3.0\n",
            "3.0\n",
            "DescribeResult(nobs=882, minmax=(1, 4), mean=2.758503401360544, variance=1.2253816396024926, skewness=-0.3670963806181623, kurtosis=-1.2089087287406801)\n",
            "DescribeResult(nobs=588, minmax=(1, 4), mean=2.683673469387755, variance=1.2013002816117928, skewness=-0.274792780632431, kurtosis=-1.2330637196398142)\n",
            "(0.8407873511314392, 8.381994387216348e-29)\n",
            "(0.8519268035888672, 4.750763024855379e-23)\n",
            "KruskalResult(statistic=1.8645854293926603, pvalue=0.17209650750304156)\n",
            "MannwhitneyuResult(statistic=248820.5, pvalue=0.0860584779427192)\n"
          ],
          "name": "stdout"
        },
        {
          "output_type": "execute_result",
          "data": {
            "text/plain": [
              "<matplotlib.axes._subplots.AxesSubplot at 0x7f62f715a668>"
            ]
          },
          "metadata": {
            "tags": []
          },
          "execution_count": 5
        },
        {
          "output_type": "display_data",
          "data": {
            "image/png": "[encoded data removed]",
            "text/plain": [
              "<Figure size 720x432 with 1 Axes>"
            ]
          },
          "metadata": {
            "tags": []
          }
        }
      ]
    },
    {
      "cell_type": "markdown",
      "metadata": {
        "id": "FdgtmO2TifpP",
        "colab_type": "text"
      },
      "source": [
        "The distributions look similar (though there are more male employees), the p values are too high, and the bloxplot illustrates that there is no difference. Altogether, the results indicate that I cannot reject the null. There is no statistically significance difference between men and women in terms of job satisfaction. Perhaps the result would have been different if job satisfaction had been measured on a longer scale, from perhaps 1-10 instead of 1-4.  "
      ]
    },
    {
      "cell_type": "markdown",
      "metadata": {
        "id": "WrRbiWHkil2A",
        "colab_type": "text"
      },
      "source": [
        "###Hypothesis 3: \n",
        "There is a significant difference between male and female employees in their percent salary increases"
      ]
    },
    {
      "cell_type": "code",
      "metadata": {
        "id": "BDxCP3UQqDqR",
        "colab_type": "code",
        "colab": {
          "base_uri": "https://localhost:8080/",
          "height": 874
        },
        "outputId": "07f56317-cdf5-4156-aa9a-a4097c41f8bd"
      },
      "source": [
        "\n",
        "\n",
        "#First, check to make sure the variable is normally distributed:\n",
        "plt.hist(Males['PercentSalaryHike'], alpha = .5, label = 'Males')\n",
        "plt.hist(Females['PercentSalaryHike'], alpha = .5, label = 'Females')\n",
        "plt.xlabel('Percent Salary Increase')\n",
        "plt.ylabel('Number of Employees')\n",
        "plt.title('Distribution For Percent Salary Increase')\n",
        "plt.legend()\n",
        "plt.show()\n",
        "\n",
        "\n",
        "print(Males['PercentSalaryHike'].median())\n",
        "print(Females['PercentSalaryHike'].median())\n",
        "#look at skew and kurtosis\n",
        "print(stats.describe(Males['PercentSalaryHike']))\n",
        "print(stats.describe(Females['PercentSalaryHike']))\n",
        "\n",
        "#get shapiro\n",
        "print(stats.shapiro(Males['PercentSalaryHike']))\n",
        "print(stats.shapiro(Females['PercentSalaryHike']))\n",
        "\n",
        "\n",
        "\n",
        "# let's look at the Kruskal\n",
        "print(stats.kruskal(\n",
        "    Males['PercentSalaryHike'],\n",
        "    Females['PercentSalaryHike']))\n",
        "\n",
        "\n",
        "print(stats.mannwhitneyu(Males['PercentSalaryHike'], Females['PercentSalaryHike']))\n",
        "\n",
        "IBM.boxplot('PercentSalaryHike', by='Gender', figsize=(10, 6))"
      ],
      "execution_count": null,
      "outputs": [
        {
          "output_type": "display_data",
          "data": {
            "image/png": "[encoded data removed]",
            "text/plain": [
              "<Figure size 432x288 with 1 Axes>"
            ]
          },
          "metadata": {
            "tags": []
          }
        },
        {
          "output_type": "stream",
          "text": [
            "14.0\n",
            "14.0\n",
            "DescribeResult(nobs=882, minmax=(11, 25), mean=15.217687074829932, variance=13.210220296972365, skewness=0.8449800914788632, kurtosis=-0.2362135585341516)\n",
            "DescribeResult(nobs=588, minmax=(11, 25), mean=15.197278911564625, variance=13.69525663757837, skewness=0.7853167355405474, kurtosis=-0.4000754802981965)\n",
            "(0.900299608707428, 1.688561185246645e-23)\n",
            "(0.8994561433792114, 3.348263751443677e-19)\n",
            "KruskalResult(statistic=0.14404550476354075, pvalue=0.7042919014756945)\n",
            "MannwhitneyuResult(statistic=256300.0, pvalue=0.3521693702696799)\n"
          ],
          "name": "stdout"
        },
        {
          "output_type": "execute_result",
          "data": {
            "text/plain": [
              "<matplotlib.axes._subplots.AxesSubplot at 0x7f62f70043c8>"
            ]
          },
          "metadata": {
            "tags": []
          },
          "execution_count": 6
        },
        {
          "output_type": "display_data",
          "data": {
            "image/png": "[encoded data removed]",
            "text/plain": [
              "<Figure size 720x432 with 1 Axes>"
            ]
          },
          "metadata": {
            "tags": []
          }
        }
      ]
    },
    {
      "cell_type": "markdown",
      "metadata": {
        "id": "iCk2RTSYkPEi",
        "colab_type": "text"
      },
      "source": [
        "The histogram indicates that this is not normally distributed, but the skew and kurtosis numbers are fine. The shapiro results and the histogram lead me to think that this is not normally distributed, so it would be better to do a non-parametric test. The krusal results indicate that I cannot reject the null that the data samples are drawn from the same distribution. The Mann Whitney U results indicate that the p value is too high to be able to reject the null, The results indicate that there is no statistically significant difference between men and women in terms of Percent Salary hike."
      ]
    },
    {
      "cell_type": "markdown",
      "metadata": {
        "id": "-o2Z8sT7iCQR",
        "colab_type": "text"
      },
      "source": [
        "###Discussion\n",
        "\n",
        "It turns out, I could not reject the null for all three hypotheses. However, this is actually a positive result because it indicates that IBM's employees are not discriminated based on gender. The results indicate that there are no statistically significant differences between male and female employees in terms of their monthly income, job satisfaction, and percent salary increases. \n",
        "\n",
        "In the future, I would like to examine whether certain positions experience higher job satisfaction levels. It would also be interesting to remove the outliers and examine whether that makes a difference in the analysis."
      ]
    },
    {
      "cell_type": "code",
      "metadata": {
        "id": "Hs8o2lIfv7IK",
        "colab_type": "code",
        "colab": {}
      },
      "source": [
        " "
      ],
      "execution_count": null,
      "outputs": []
    }
  ]
}